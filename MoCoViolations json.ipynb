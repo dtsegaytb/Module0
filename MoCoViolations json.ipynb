{
 "cells": [
  {
   "cell_type": "code",
   "execution_count": null,
   "metadata": {},
   "outputs": [],
   "source": [
    "import json\n",
    "import pandas as pd"
   ]
  },
  {
   "cell_type": "code",
   "execution_count": null,
   "metadata": {},
   "outputs": [],
   "source": [
    "%%bash\n",
    "\n",
    "head datasets/MoCoViolations_2018.json\n"
   ]
  },
  {
   "cell_type": "code",
   "execution_count": null,
   "metadata": {},
   "outputs": [],
   "source": [
    "filepath = \"MoCoViolations_2018.json\"\n"
   ]
  },
  {
   "cell_type": "code",
   "execution_count": null,
   "metadata": {},
   "outputs": [],
   "source": [
    "#data is individual JSON objects not separated by commas\n",
    "#will load data as JSON and put in bigger list to be able to extract values from keys\n",
    "\n",
    "data = []\n",
    "\n",
    "with open(filepath) as file:\n",
    "    for line in file:\n",
    "        data.append(json.loads(line))"
   ]
  },
  {
   "cell_type": "code",
   "execution_count": null,
   "metadata": {},
   "outputs": [],
   "source": [
    "data"
   ]
  },
  {
   "cell_type": "code",
   "execution_count": null,
   "metadata": {},
   "outputs": [],
   "source": [
    "len(data)"
   ]
  },
  {
   "cell_type": "code",
   "execution_count": null,
   "metadata": {},
   "outputs": [],
   "source": [
    "data[0]['data'][5]"
   ]
  },
  {
   "cell_type": "code",
   "execution_count": null,
   "metadata": {},
   "outputs": [],
   "source": [
    "data[0]['data'][10]"
   ]
  },
  {
   "cell_type": "code",
   "execution_count": null,
   "metadata": {},
   "outputs": [],
   "source": [
    "mdlist=[]\n",
    "viol = data[0]['data']\n",
    "for violation in viol:\n",
    "    mdlist.append([violation[9],\n",
    "                violation[10],\n",
    "                violation[11],\n",
    "                violation[12],\n",
    "                violation[13],\n",
    "                violation[14],\n",
    "                violation[15],\n",
    "                violation[16],\n",
    "                violation[28],\n",
    "                violation[29],\n",
    "                violation[30],\n",
    "                violation[31],\n",
    "                violation[32],\n",
    "                violation[33],\n",
    "                violation[37],\n",
    "                violation[38],\n",
    "                violation[40],\n",
    "                violation[41],\n",
    "                violation[42]\n",
    "                 ])\n",
    "                \n",
    "            \n",
    "              \n",
    "               \n",
    "                "
   ]
  },
  {
   "cell_type": "code",
   "execution_count": null,
   "metadata": {},
   "outputs": [],
   "source": [
    "\n",
    "mdlist"
   ]
  },
  {
   "cell_type": "code",
   "execution_count": null,
   "metadata": {},
   "outputs": [],
   "source": [
    "with open('mdlist.csv', 'w') as expfile:  \n",
    "    json.dump(mdlist, expfile)"
   ]
  },
  {
   "cell_type": "code",
   "execution_count": null,
   "metadata": {},
   "outputs": [],
   "source": [
    "location = ('mdlist.csv')\n",
    "df = pd.read_csv(location)\n",
    "df(head)"
   ]
  },
  {
   "cell_type": "code",
   "execution_count": null,
   "metadata": {},
   "outputs": [],
   "source": []
  }
 ],
 "metadata": {
  "kernelspec": {
   "display_name": "Python 3",
   "language": "python",
   "name": "python3"
  },
  "language_info": {
   "codemirror_mode": {
    "name": "ipython",
    "version": 3
   },
   "file_extension": ".py",
   "mimetype": "text/x-python",
   "name": "python",
   "nbconvert_exporter": "python",
   "pygments_lexer": "ipython3",
   "version": "3.7.3"
  }
 },
 "nbformat": 4,
 "nbformat_minor": 2
}
