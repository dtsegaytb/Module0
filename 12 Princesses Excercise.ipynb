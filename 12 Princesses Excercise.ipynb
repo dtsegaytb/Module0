{
 "cells": [
  {
   "cell_type": "code",
   "execution_count": 16,
   "metadata": {},
   "outputs": [
    {
     "name": "stderr",
     "output_type": "stream",
     "text": [
      "[nltk_data] Downloading package punkt to\n",
      "[nltk_data]     C:\\Users\\GBTC406002ur\\AppData\\Roaming\\nltk_data...\n",
      "[nltk_data]   Package punkt is already up-to-date!\n",
      "[nltk_data] Downloading package wordnet to\n",
      "[nltk_data]     C:\\Users\\GBTC406002ur\\AppData\\Roaming\\nltk_data...\n",
      "[nltk_data]   Package wordnet is already up-to-date!\n",
      "[nltk_data] Downloading package names to\n",
      "[nltk_data]     C:\\Users\\GBTC406002ur\\AppData\\Roaming\\nltk_data...\n",
      "[nltk_data]   Package names is already up-to-date!\n",
      "[nltk_data] Downloading package stopwords to\n",
      "[nltk_data]     C:\\Users\\GBTC406002ur\\AppData\\Roaming\\nltk_data...\n",
      "[nltk_data]   Package stopwords is already up-to-date!\n",
      "[nltk_data] Downloading package vader_lexicon to\n",
      "[nltk_data]     C:\\Users\\GBTC406002ur\\AppData\\Roaming\\nltk_data...\n",
      "[nltk_data]   Package vader_lexicon is already up-to-date!\n"
     ]
    },
    {
     "data": {
      "text/plain": [
       "True"
      ]
     },
     "execution_count": 16,
     "metadata": {},
     "output_type": "execute_result"
    }
   ],
   "source": [
    "import nltk\n",
    "from nltk.tokenize import word_tokenize\n",
    "from nltk.tokenize import sent_tokenize\n",
    "from nltk.tokenize import TweetTokenizer\n",
    "from nltk.probability import FreqDist\n",
    "from nltk.corpus import stopwords\n",
    "from nltk.stem import WordNetLemmatizer\n",
    "from nltk.sentiment.vader import SentimentIntensityAnalyzer\n",
    "\n",
    "\n",
    "#this is sample data\n",
    "from nltk.corpus import names  \n",
    "\n",
    "from string import punctuation\n",
    "\n",
    "#if the next cell does not work\n",
    "#remove number symbol on following lines and re-run this cell\n",
    "nltk.download('punkt')\n",
    "nltk.download('wordnet')\n",
    "nltk.download('names')\n",
    "nltk.download('stopwords')\n",
    "nltk.download('vader_lexicon')"
   ]
  },
  {
   "cell_type": "code",
   "execution_count": 17,
   "metadata": {},
   "outputs": [
    {
     "name": "stdout",
     "output_type": "stream",
     "text": [
      "['THE', 'TWELVE', 'DANCING', 'PRINCESSES']\n",
      "['There', 'was', 'a', 'king', 'who', 'had', 'twelve', 'beautiful', 'daughters', '.', 'They', 'slept', 'in']\n",
      "['twelve', 'beds', 'all', 'in', 'one', 'room', ';', 'and', 'when', 'they', 'went', 'to', 'bed', ',', 'the', 'doors', 'were']\n",
      "['shut', 'and', 'locked', 'up', ';', 'but', 'every', 'morning', 'their', 'shoes', 'were', 'found', 'to', 'be', 'quite']\n",
      "['worn', 'through', 'as', 'if', 'they', 'had', 'been', 'danced', 'in', 'all', 'night', ';', 'and', 'yet', 'nobody']\n",
      "['could', 'find', 'out', 'how', 'it', 'happened', ',', 'or', 'where', 'they', 'had', 'been', '.']\n",
      "['Then', 'the', 'king', 'made', 'it', 'known', 'to', 'all', 'the', 'land', ',', 'that', 'if', 'any', 'person', 'could']\n",
      "['discover', 'the', 'secret', ',', 'and', 'find', 'out', 'where', 'it', 'was', 'that', 'the', 'princesses']\n",
      "['danced', 'in', 'the', 'night', ',', 'he', 'should', 'have', 'the', 'one', 'he', 'liked', 'best', 'for', 'his']\n",
      "['wife', ',', 'and', 'should', 'be', 'king', 'after', 'his', 'death', ';', 'but', 'whoever', 'tried', 'and', 'did', 'not']\n",
      "['succeed', ',', 'after', 'three', 'days', 'and', 'nights', ',', 'should', 'be', 'put', 'to', 'death', '.']\n",
      "['A', 'king', '’', 's', 'son', 'soon', 'came', '.', 'He', 'was', 'well', 'entertained', ',', 'and', 'in', 'the', 'evening', 'was']\n",
      "['taken', 'to', 'the', 'chamber', 'next', 'to', 'the', 'one', 'where', 'the', 'princesses', 'lay', 'in', 'their']\n",
      "['twelve', 'beds', '.', 'There', 'he', 'was', 'to', 'sit', 'and', 'watch', 'where', 'they', 'went', 'to', 'dance', ';']\n",
      "['and', ',', 'in', 'order', 'that', 'nothing', 'might', 'pass', 'without', 'his', 'hearing', 'it', ',', 'the', 'door']\n",
      "['of', 'his', 'chamber', 'was', 'left', 'open', '.', 'But', 'the', 'king', '’', 's', 'son', 'soon', 'fell', 'asleep', ';', 'and']\n",
      "['when', 'he', 'awoke', 'in', 'the', 'morning', 'he', 'found', 'that', 'the', 'princesses', 'had', 'all', 'been']\n",
      "['dancing', ',', 'for', 'the', 'soles', 'of', 'their', 'shoes', 'were', 'full', 'of', 'holes', '.', 'The', 'same', 'thing']\n",
      "['happened', 'the', 'second', 'and', 'third', 'night', ':', 'so', 'the', 'king', 'ordered', 'his', 'head', 'to', 'be']\n",
      "['cut', 'off', '.', 'After', 'him', 'came', 'several', 'others', ';', 'but', 'they', 'had', 'all', 'the', 'same', 'luck', ',']\n",
      "['and', 'all', 'lost', 'their', 'lives', 'in', 'the', 'same', 'manner', '.']\n",
      "['Now', 'it', 'chanced', 'that', 'an', 'old', 'soldier', ',', 'who', 'had', 'been', 'wounded', 'in', 'battle']\n",
      "['and', 'could', 'fight', 'no', 'longer', ',', 'passed', 'through', 'the', 'country', 'where', 'this', 'king']\n",
      "['reigned', ':', 'and', 'as', 'he', 'was', 'travelling', 'through', 'a', 'wood', ',', 'he', 'met', 'an', 'old', 'woman', ',']\n",
      "['who', 'asked', 'him', 'where', 'he', 'was', 'going', '.', '‘', 'I', 'hardly', 'know', 'where', 'I', 'am', 'going', ',', 'or']\n",
      "['what', 'I', 'had', 'better', 'do', ',', '’', 'said', 'the', 'soldier', ';', '‘', 'but', 'I', 'think', 'I', 'should', 'like', 'very']\n",
      "['well', 'to', 'find', 'out', 'where', 'it', 'is', 'that', 'the', 'princesses', 'dance', ',', 'and', 'then', 'in', 'time']\n",
      "['I', 'might', 'be', 'a', 'king.', '’', '‘', 'Well', ',', '’', 'said', 'the', 'old', 'dame', ',', '‘', 'that', 'is', 'no', 'very', 'hard']\n",
      "['task', ':', 'only', 'take', 'care', 'not', 'to', 'drink', 'any', 'of', 'the', 'wine', 'which', 'one', 'of', 'the']\n",
      "['princesses', 'will', 'bring', 'to', 'you', 'in', 'the', 'evening', ';', 'and', 'as', 'soon', 'as', 'she', 'leaves']\n",
      "['you', 'pretend', 'to', 'be', 'fast', 'asleep', '.', '’']\n",
      "['Then', 'she', 'gave', 'him', 'a', 'cloak', ',', 'and', 'said', ',', '‘', 'As', 'soon', 'as', 'you', 'put', 'that', 'on']\n",
      "['you', 'will', 'become', 'invisible', ',', 'and', 'you', 'will', 'then', 'be', 'able', 'to', 'follow', 'the']\n",
      "['princesses', 'wherever', 'they', 'go.', '’', 'When', 'the', 'soldier', 'heard', 'all', 'this', 'good']\n",
      "['counsel', ',', 'he', 'determined', 'to', 'try', 'his', 'luck', ':', 'so', 'he', 'went', 'to', 'the', 'king', ',', 'and', 'said']\n",
      "['he', 'was', 'willing', 'to', 'undertake', 'the', 'task', '.']\n",
      "['He', 'was', 'as', 'well', 'received', 'as', 'the', 'others', 'had', 'been', ',', 'and', 'the', 'king', 'ordered']\n",
      "['fine', 'royal', 'robes', 'to', 'be', 'given', 'him', ';', 'and', 'when', 'the', 'evening', 'came', 'he', 'was', 'led']\n",
      "['to', 'the', 'outer', 'chamber', '.', 'Just', 'as', 'he', 'was', 'going', 'to', 'lie', 'down', ',', 'the', 'eldest', 'of']\n",
      "['the', 'princesses', 'brought', 'him', 'a', 'cup', 'of', 'wine', ';', 'but', 'the', 'soldier', 'threw', 'it', 'all']\n",
      "['away', 'secretly', ',', 'taking', 'care', 'not', 'to', 'drink', 'a', 'drop', '.', 'Then', 'he', 'laid', 'himself']\n",
      "['down', 'on', 'his', 'bed', ',', 'and', 'in', 'a', 'little', 'while', 'began', 'to', 'snore', 'very', 'loud', 'as', 'if']\n",
      "['he', 'was', 'fast', 'asleep', '.', 'When', 'the', 'twelve', 'princesses', 'heard', 'this', 'they', 'laughed']\n",
      "['heartily', ';', 'and', 'the', 'eldest', 'said', ',', '‘', 'This', 'fellow', 'too', 'might', 'have', 'done', 'a', 'wiser']\n",
      "['thing', 'than', 'lose', 'his', 'life', 'in', 'this', 'way', '!', '’', 'Then', 'they', 'rose', 'up', 'and', 'opened']\n",
      "['their', 'drawers', 'and', 'boxes', ',', 'and', 'took', 'out', 'all', 'their', 'fine', 'clothes', ',', 'and']\n",
      "['dressed', 'themselves', 'at', 'the', 'glass', ',', 'and', 'skipped', 'about', 'as', 'if', 'they', 'were', 'eager']\n",
      "['to', 'begin', 'dancing', '.', 'But', 'the', 'youngest', 'said', ',', '‘', 'I', 'don', '’', 't', 'know', 'how', 'it', 'is', ',', 'while']\n",
      "['you', 'are', 'so', 'happy', 'I', 'feel', 'very', 'uneasy', ';', 'I', 'am', 'sure', 'some', 'mischance', 'will']\n",
      "['befall', 'us.', '’', '‘', 'You', 'simpleton', ',', '’', 'said', 'the', 'eldest', ',', '‘', 'you', 'are', 'always', 'afraid', ';']\n",
      "['have', 'you', 'forgotten', 'how', 'many', 'kings', '’', 'sons', 'have', 'already', 'watched', 'in', 'vain', '?']\n",
      "['And', 'as', 'for', 'this', 'soldier', ',', 'even', 'if', 'I', 'had', 'not', 'given', 'him', 'his', 'sleeping']\n",
      "['draught', ',', 'he', 'would', 'have', 'slept', 'soundly', 'enough', '.', '’']\n",
      "['When', 'they', 'were', 'all', 'ready', ',', 'they', 'went', 'and', 'looked', 'at', 'the', 'soldier', ';', 'but', 'he']\n",
      "['snored', 'on', ',', 'and', 'did', 'not', 'stir', 'hand', 'or', 'foot', ':', 'so', 'they', 'thought', 'they', 'were']\n",
      "['quite', 'safe', ';', 'and', 'the', 'eldest', 'went', 'up', 'to', 'her', 'own', 'bed', 'and', 'clapped', 'her', 'hands', ',']\n",
      "['and', 'the', 'bed', 'sank', 'into', 'the', 'floor', 'and', 'a', 'trap-door', 'flew', 'open', '.', 'The', 'soldier']\n",
      "['saw', 'them', 'going', 'down', 'through', 'the', 'trap-door', 'one', 'after', 'another', ',', 'the', 'eldest']\n",
      "['leading', 'the', 'way', ';', 'and', 'thinking', 'he', 'had', 'no', 'time', 'to', 'lose', ',', 'he', 'jumped', 'up', ',', 'put']\n",
      "['on', 'the', 'cloak', 'which', 'the', 'old', 'woman', 'had', 'given', 'him', ',', 'and', 'followed', 'them', ';']\n",
      "['but', 'in', 'the', 'middle', 'of', 'the', 'stairs', 'he', 'trod', 'on', 'the', 'gown', 'of', 'the', 'youngest']\n",
      "['princess', ',', 'and', 'she', 'cried', 'out', 'to', 'her', 'sisters', ',', '‘', 'All', 'is', 'not', 'right', ';', 'someone']\n",
      "['took', 'hold', 'of', 'my', 'gown.', '’', '‘', 'You', 'silly', 'creature', '!', '’', 'said', 'the', 'eldest', ',', '‘', 'it', 'is']\n",
      "['nothing', 'but', 'a', 'nail', 'in', 'the', 'wall.', '’', 'Then', 'down', 'they', 'all', 'went', ',', 'and', 'at', 'the']\n",
      "['bottom', 'they', 'found', 'themselves', 'in', 'a', 'most', 'delightful', 'grove', 'of', 'trees', ';', 'and']\n",
      "['the', 'leaves', 'were', 'all', 'of', 'silver', ',', 'and', 'glittered', 'and', 'sparkled', 'beautifully', '.']\n",
      "['The', 'soldier', 'wished', 'to', 'take', 'away', 'some', 'token', 'of', 'the', 'place', ';', 'so', 'he', 'broke']\n",
      "['off', 'a', 'little', 'branch', ',', 'and', 'there', 'came', 'a', 'loud', 'noise', 'from', 'the', 'tree', '.', 'Then', 'the']\n",
      "['youngest', 'daughter', 'said', 'again', ',', '‘', 'I', 'am', 'sure', 'all', 'is', 'not', 'right', '--', 'did', 'not', 'you']\n",
      "['hear', 'that', 'noise', '?', 'That', 'never', 'happened', 'before.', '’', 'But', 'the', 'eldest', 'said', ',', '‘', 'It']\n",
      "['is', 'only', 'our', 'princes', ',', 'who', 'are', 'shouting', 'for', 'joy', 'at', 'our', 'approach', '.', '’']\n",
      "['Then', 'they', 'came', 'to', 'another', 'grove', 'of', 'trees', ',', 'where', 'all', 'the', 'leaves', 'were', 'of']\n",
      "['gold', ';', 'and', 'afterwards', 'to', 'a', 'third', ',', 'where', 'the', 'leaves', 'were', 'all', 'glittering']\n",
      "['diamonds', '.', 'And', 'the', 'soldier', 'broke', 'a', 'branch', 'from', 'each', ';', 'and', 'every', 'time', 'there']\n",
      "['was', 'a', 'loud', 'noise', ',', 'which', 'made', 'the', 'youngest', 'sister', 'tremble', 'with', 'fear', ';', 'but']\n",
      "['the', 'eldest', 'still', 'said', ',', 'it', 'was', 'only', 'the', 'princes', ',', 'who', 'were', 'crying', 'for', 'joy', '.']\n",
      "['So', 'they', 'went', 'on', 'till', 'they', 'came', 'to', 'a', 'great', 'lake', ';', 'and', 'at', 'the', 'side', 'of', 'the']\n",
      "['lake', 'there', 'lay', 'twelve', 'little', 'boats', 'with', 'twelve', 'handsome', 'princes', 'in', 'them', ',']\n",
      "['who', 'seemed', 'to', 'be', 'waiting', 'there', 'for', 'the', 'princesses', '.']\n",
      "['One', 'of', 'the', 'princesses', 'went', 'into', 'each', 'boat', ',', 'and', 'the', 'soldier', 'stepped', 'into']\n",
      "['the', 'same', 'boat', 'with', 'the', 'youngest', '.', 'As', 'they', 'were', 'rowing', 'over', 'the', 'lake', ',', 'the']\n",
      "['prince', 'who', 'was', 'in', 'the', 'boat', 'with', 'the', 'youngest', 'princess', 'and', 'the', 'soldier']\n",
      "['said', ',', '‘', 'I', 'do', 'not', 'know', 'why', 'it', 'is', ',', 'but', 'though', 'I', 'am', 'rowing', 'with', 'all', 'my', 'might']\n",
      "['we', 'do', 'not', 'get', 'on', 'so', 'fast', 'as', 'usual', ',', 'and', 'I', 'am', 'quite', 'tired', ':', 'the', 'boat']\n",
      "['seems', 'very', 'heavy', 'today.', '’', '‘', 'It', 'is', 'only', 'the', 'heat', 'of', 'the', 'weather', ',', '’', 'said', 'the']\n",
      "['princess', ':', '‘', 'I', 'feel', 'it', 'very', 'warm', 'too', '.', '’']\n",
      "['On', 'the', 'other', 'side', 'of', 'the', 'lake', 'stood', 'a', 'fine', 'illuminated', 'castle', ',', 'from']\n",
      "['which', 'came', 'the', 'merry', 'music', 'of', 'horns', 'and', 'trumpets', '.', 'There', 'they', 'all', 'landed', ',']\n",
      "['and', 'went', 'into', 'the', 'castle', ',', 'and', 'each', 'prince', 'danced', 'with', 'his', 'princess', ';', 'and']\n",
      "['the', 'soldier', ',', 'who', 'was', 'all', 'the', 'time', 'invisible', ',', 'danced', 'with', 'them', 'too', ';', 'and']\n",
      "['when', 'any', 'of', 'the', 'princesses', 'had', 'a', 'cup', 'of', 'wine', 'set', 'by', 'her', ',', 'he', 'drank', 'it']\n",
      "['all', 'up', ',', 'so', 'that', 'when', 'she', 'put', 'the', 'cup', 'to', 'her', 'mouth', 'it', 'was', 'empty', '.', 'At', 'this', ',']\n",
      "['too', ',', 'the', 'youngest', 'sister', 'was', 'terribly', 'frightened', ',', 'but', 'the', 'eldest', 'always']\n",
      "['silenced', 'her', '.', 'They', 'danced', 'on', 'till', 'three', 'o', '’', 'clock', 'in', 'the', 'morning', ',', 'and', 'then']\n",
      "['all', 'their', 'shoes', 'were', 'worn', 'out', ',', 'so', 'that', 'they', 'were', 'obliged', 'to', 'leave', 'off', '.']\n",
      "['The', 'princes', 'rowed', 'them', 'back', 'again', 'over', 'the', 'lake', '(', 'but', 'this', 'time', 'the']\n",
      "['soldier', 'placed', 'himself', 'in', 'the', 'boat', 'with', 'the', 'eldest', 'princess', ')', ';', 'and', 'on', 'the']\n",
      "['opposite', 'shore', 'they', 'took', 'leave', 'of', 'each', 'other', ',', 'the', 'princesses', 'promising']\n",
      "['to', 'come', 'again', 'the', 'next', 'night', '.']\n",
      "['When', 'they', 'came', 'to', 'the', 'stairs', ',', 'the', 'soldier', 'ran', 'on', 'before', 'the', 'princesses', ',']\n",
      "['and', 'laid', 'himself', 'down', ';', 'and', 'as', 'the', 'twelve', 'sisters', 'slowly', 'came', 'up', 'very']\n",
      "['much', 'tired', ',', 'they', 'heard', 'him', 'snoring', 'in', 'his', 'bed', ';', 'so', 'they', 'said', ',', '‘', 'Now', 'all']\n",
      "['is', 'quite', 'safe', '’', ';', 'then', 'they', 'undressed', 'themselves', ',', 'put', 'away', 'their', 'fine']\n",
      "['clothes', ',', 'pulled', 'off', 'their', 'shoes', ',', 'and', 'went', 'to', 'bed', '.', 'In', 'the', 'morning', 'the']\n",
      "['soldier', 'said', 'nothing', 'about', 'what', 'had', 'happened', ',', 'but', 'determined', 'to', 'see', 'more']\n",
      "['of', 'this', 'strange', 'adventure', ',', 'and', 'went', 'again', 'the', 'second', 'and', 'third', 'night', ';']\n",
      "['and', 'every', 'thing', 'happened', 'just', 'as', 'before', ';', 'the', 'princesses', 'danced', 'each', 'time']\n",
      "['till', 'their', 'shoes', 'were', 'worn', 'to', 'pieces', ',', 'and', 'then', 'returned', 'home', '.', 'However', ',']\n",
      "['on', 'the', 'third', 'night', 'the', 'soldier', 'carried', 'away', 'one', 'of', 'the', 'golden', 'cups', 'as', 'a']\n",
      "['token', 'of', 'where', 'he', 'had', 'been', '.']\n",
      "['As', 'soon', 'as', 'the', 'time', 'came', 'when', 'he', 'was', 'to', 'declare', 'the', 'secret', ',', 'he', 'was', 'taken']\n",
      "['before', 'the', 'king', 'with', 'the', 'three', 'branches', 'and', 'the', 'golden', 'cup', ';', 'and', 'the']\n",
      "['twelve', 'princesses', 'stood', 'listening', 'behind', 'the', 'door', 'to', 'hear', 'what', 'he', 'would']\n",
      "['say', '.', 'And', 'when', 'the', 'king', 'asked', 'him', '.', '‘', 'Where', 'do', 'my', 'twelve', 'daughters', 'dance', 'at']\n",
      "['night', '?', '’', 'he', 'answered', ',', '‘', 'With', 'twelve', 'princes', 'in', 'a', 'castle', 'under', 'ground.', '’', 'And']\n",
      "['then', 'he', 'told', 'the', 'king', 'all', 'that', 'had', 'happened', ',', 'and', 'showed', 'him', 'the', 'three']\n",
      "['branches', 'and', 'the', 'golden', 'cup', 'which', 'he', 'had', 'brought', 'with', 'him', '.', 'Then', 'the', 'king']\n",
      "['called', 'for', 'the', 'princesses', ',', 'and', 'asked', 'them', 'whether', 'what', 'the', 'soldier', 'said']\n",
      "['was', 'true', ':', 'and', 'when', 'they', 'saw', 'that', 'they', 'were', 'discovered', ',', 'and', 'that', 'it', 'was']\n",
      "['of', 'no', 'use', 'to', 'deny', 'what', 'had', 'happened', ',', 'they', 'confessed', 'it', 'all', '.', 'And', 'the', 'king']\n",
      "['asked', 'the', 'soldier', 'which', 'of', 'them', 'he', 'would', 'choose', 'for', 'his', 'wife', ';', 'and', 'he']\n",
      "['answered', ',', '‘', 'I', 'am', 'not', 'very', 'young', ',', 'so', 'I', 'will', 'have', 'the', 'eldest.', '’', '--', 'And', 'they']\n",
      "['were', 'married', 'that', 'very', 'day', ',', 'and', 'the', 'soldier', 'was', 'chosen', 'to', 'be', 'the', 'king', '’', 's']\n",
      "['heir', '.']\n"
     ]
    }
   ],
   "source": [
    "dprince = []\n",
    "\n",
    "with open('datasets/12dancingprincesses.txt', 'r') as f:\n",
    "    for line in f:\n",
    "        cline = line.strip() #get rid of newline character\n",
    "        #print(cline)\n",
    "        if cline == '': pass  #this will skip over lines that only had a newline and are now blank\n",
    "        else:\n",
    "            tknls = word_tokenize(line)\n",
    "            print(tknls)\n",
    "            for token in tknls:\n",
    "                dprince.append(token)\n",
    "        dprince"
   ]
  },
  {
   "cell_type": "code",
   "execution_count": 18,
   "metadata": {},
   "outputs": [
    {
     "name": "stdout",
     "output_type": "stream",
     "text": [
      "['THE', 'TWELVE', 'DANCING', 'PRINCESSES', 'There', 'was', 'a', 'king', 'who', 'had', 'twelve', 'beautiful', 'daughters', '.', 'They', 'slept', 'in', 'twelve', 'beds', 'all', 'in', 'one', 'room', ';', 'and', 'when', 'they', 'went', 'to', 'bed', ',', 'the', 'doors', 'were', 'shut', 'and', 'locked', 'up', ';', 'but', 'every', 'morning', 'their', 'shoes', 'were', 'found', 'to', 'be', 'quite', 'worn', 'through', 'as', 'if', 'they', 'had', 'been', 'danced', 'in', 'all', 'night', ';', 'and', 'yet', 'nobody', 'could', 'find', 'out', 'how', 'it', 'happened', ',', 'or', 'where', 'they', 'had', 'been', '.', 'Then', 'the', 'king', 'made', 'it', 'known', 'to', 'all', 'the', 'land', ',', 'that', 'if', 'any', 'person', 'could', 'discover', 'the', 'secret', ',', 'and', 'find', 'out', 'where', 'it', 'was', 'that', 'the', 'princesses', 'danced', 'in', 'the', 'night', ',', 'he', 'should', 'have', 'the', 'one', 'he', 'liked', 'best', 'for', 'his', 'wife', ',', 'and', 'should', 'be', 'king', 'after', 'his', 'death', ';', 'but', 'whoever', 'tried', 'and', 'did', 'not', 'succeed', ',', 'after', 'three', 'days', 'and', 'nights', ',', 'should', 'be', 'put', 'to', 'death', '.', 'A', 'king', '’', 's', 'son', 'soon', 'came', '.', 'He', 'was', 'well', 'entertained', ',', 'and', 'in', 'the', 'evening', 'was', 'taken', 'to', 'the', 'chamber', 'next', 'to', 'the', 'one', 'where', 'the', 'princesses', 'lay', 'in', 'their', 'twelve', 'beds', '.', 'There', 'he', 'was', 'to', 'sit', 'and', 'watch', 'where', 'they', 'went', 'to', 'dance', ';', 'and', ',', 'in', 'order', 'that', 'nothing', 'might', 'pass', 'without', 'his', 'hearing', 'it', ',', 'the', 'door', 'of', 'his', 'chamber', 'was', 'left', 'open', '.', 'But', 'the', 'king', '’', 's', 'son', 'soon', 'fell', 'asleep', ';', 'and', 'when', 'he', 'awoke', 'in', 'the', 'morning', 'he', 'found', 'that', 'the', 'princesses', 'had', 'all', 'been', 'dancing', ',', 'for', 'the', 'soles', 'of', 'their', 'shoes', 'were', 'full', 'of', 'holes', '.', 'The', 'same', 'thing', 'happened', 'the', 'second', 'and', 'third', 'night', ':', 'so', 'the', 'king', 'ordered', 'his', 'head', 'to', 'be', 'cut', 'off', '.', 'After', 'him', 'came', 'several', 'others', ';', 'but', 'they', 'had', 'all', 'the', 'same', 'luck', ',', 'and', 'all', 'lost', 'their', 'lives', 'in', 'the', 'same', 'manner', '.', 'Now', 'it', 'chanced', 'that', 'an', 'old', 'soldier', ',', 'who', 'had', 'been', 'wounded', 'in', 'battle', 'and', 'could', 'fight', 'no', 'longer', ',', 'passed', 'through', 'the', 'country', 'where', 'this', 'king', 'reigned', ':', 'and', 'as', 'he', 'was', 'travelling', 'through', 'a', 'wood', ',', 'he', 'met', 'an', 'old', 'woman', ',', 'who', 'asked', 'him', 'where', 'he', 'was', 'going', '.', '‘', 'I', 'hardly', 'know', 'where', 'I', 'am', 'going', ',', 'or', 'what', 'I', 'had', 'better', 'do', ',', '’', 'said', 'the', 'soldier', ';', '‘', 'but', 'I', 'think', 'I', 'should', 'like', 'very', 'well', 'to', 'find', 'out', 'where', 'it', 'is', 'that', 'the', 'princesses', 'dance', ',', 'and', 'then', 'in', 'time', 'I', 'might', 'be', 'a', 'king.', '’', '‘', 'Well', ',', '’', 'said', 'the', 'old', 'dame', ',', '‘', 'that', 'is', 'no', 'very', 'hard', 'task', ':', 'only', 'take', 'care', 'not', 'to', 'drink', 'any', 'of', 'the', 'wine', 'which', 'one', 'of', 'the', 'princesses', 'will', 'bring', 'to', 'you', 'in', 'the', 'evening', ';', 'and', 'as', 'soon', 'as', 'she', 'leaves', 'you', 'pretend', 'to', 'be', 'fast', 'asleep', '.', '’', 'Then', 'she', 'gave', 'him', 'a', 'cloak', ',', 'and', 'said', ',', '‘', 'As', 'soon', 'as', 'you', 'put', 'that', 'on', 'you', 'will', 'become', 'invisible', ',', 'and', 'you', 'will', 'then', 'be', 'able', 'to', 'follow', 'the', 'princesses', 'wherever', 'they', 'go.', '’', 'When', 'the', 'soldier', 'heard', 'all', 'this', 'good', 'counsel', ',', 'he', 'determined', 'to', 'try', 'his', 'luck', ':', 'so', 'he', 'went', 'to', 'the', 'king', ',', 'and', 'said', 'he', 'was', 'willing', 'to', 'undertake', 'the', 'task', '.', 'He', 'was', 'as', 'well', 'received', 'as', 'the', 'others', 'had', 'been', ',', 'and', 'the', 'king', 'ordered', 'fine', 'royal', 'robes', 'to', 'be', 'given', 'him', ';', 'and', 'when', 'the', 'evening', 'came', 'he', 'was', 'led', 'to', 'the', 'outer', 'chamber', '.', 'Just', 'as', 'he', 'was', 'going', 'to', 'lie', 'down', ',', 'the', 'eldest', 'of', 'the', 'princesses', 'brought', 'him', 'a', 'cup', 'of', 'wine', ';', 'but', 'the', 'soldier', 'threw', 'it', 'all', 'away', 'secretly', ',', 'taking', 'care', 'not', 'to', 'drink', 'a', 'drop', '.', 'Then', 'he', 'laid', 'himself', 'down', 'on', 'his', 'bed', ',', 'and', 'in', 'a', 'little', 'while', 'began', 'to', 'snore', 'very', 'loud', 'as', 'if', 'he', 'was', 'fast', 'asleep', '.', 'When', 'the', 'twelve', 'princesses', 'heard', 'this', 'they', 'laughed', 'heartily', ';', 'and', 'the', 'eldest', 'said', ',', '‘', 'This', 'fellow', 'too', 'might', 'have', 'done', 'a', 'wiser', 'thing', 'than', 'lose', 'his', 'life', 'in', 'this', 'way', '!', '’', 'Then', 'they', 'rose', 'up', 'and', 'opened', 'their', 'drawers', 'and', 'boxes', ',', 'and', 'took', 'out', 'all', 'their', 'fine', 'clothes', ',', 'and', 'dressed', 'themselves', 'at', 'the', 'glass', ',', 'and', 'skipped', 'about', 'as', 'if', 'they', 'were', 'eager', 'to', 'begin', 'dancing', '.', 'But', 'the', 'youngest', 'said', ',', '‘', 'I', 'don', '’', 't', 'know', 'how', 'it', 'is', ',', 'while', 'you', 'are', 'so', 'happy', 'I', 'feel', 'very', 'uneasy', ';', 'I', 'am', 'sure', 'some', 'mischance', 'will', 'befall', 'us.', '’', '‘', 'You', 'simpleton', ',', '’', 'said', 'the', 'eldest', ',', '‘', 'you', 'are', 'always', 'afraid', ';', 'have', 'you', 'forgotten', 'how', 'many', 'kings', '’', 'sons', 'have', 'already', 'watched', 'in', 'vain', '?', 'And', 'as', 'for', 'this', 'soldier', ',', 'even', 'if', 'I', 'had', 'not', 'given', 'him', 'his', 'sleeping', 'draught', ',', 'he', 'would', 'have', 'slept', 'soundly', 'enough', '.', '’', 'When', 'they', 'were', 'all', 'ready', ',', 'they', 'went', 'and', 'looked', 'at', 'the', 'soldier', ';', 'but', 'he', 'snored', 'on', ',', 'and', 'did', 'not', 'stir', 'hand', 'or', 'foot', ':', 'so', 'they', 'thought', 'they', 'were', 'quite', 'safe', ';', 'and', 'the', 'eldest', 'went', 'up', 'to', 'her', 'own', 'bed', 'and', 'clapped', 'her', 'hands', ',', 'and', 'the', 'bed', 'sank', 'into', 'the', 'floor', 'and', 'a', 'trap-door', 'flew', 'open', '.', 'The', 'soldier', 'saw', 'them', 'going', 'down', 'through', 'the', 'trap-door', 'one', 'after', 'another', ',', 'the', 'eldest', 'leading', 'the', 'way', ';', 'and', 'thinking', 'he', 'had', 'no', 'time', 'to', 'lose', ',', 'he', 'jumped', 'up', ',', 'put', 'on', 'the', 'cloak', 'which', 'the', 'old', 'woman', 'had', 'given', 'him', ',', 'and', 'followed', 'them', ';', 'but', 'in', 'the', 'middle', 'of', 'the', 'stairs', 'he', 'trod', 'on', 'the', 'gown', 'of', 'the', 'youngest', 'princess', ',', 'and', 'she', 'cried', 'out', 'to', 'her', 'sisters', ',', '‘', 'All', 'is', 'not', 'right', ';', 'someone', 'took', 'hold', 'of', 'my', 'gown.', '’', '‘', 'You', 'silly', 'creature', '!', '’', 'said', 'the', 'eldest', ',', '‘', 'it', 'is', 'nothing', 'but', 'a', 'nail', 'in', 'the', 'wall.', '’', 'Then', 'down', 'they', 'all', 'went', ',', 'and', 'at', 'the', 'bottom', 'they', 'found', 'themselves', 'in', 'a', 'most', 'delightful', 'grove', 'of', 'trees', ';', 'and', 'the', 'leaves', 'were', 'all', 'of', 'silver', ',', 'and', 'glittered', 'and', 'sparkled', 'beautifully', '.', 'The', 'soldier', 'wished', 'to', 'take', 'away', 'some', 'token', 'of', 'the', 'place', ';', 'so', 'he', 'broke', 'off', 'a', 'little', 'branch', ',', 'and', 'there', 'came', 'a', 'loud', 'noise', 'from', 'the', 'tree', '.', 'Then', 'the', 'youngest', 'daughter', 'said', 'again', ',', '‘', 'I', 'am', 'sure', 'all', 'is', 'not', 'right', '--', 'did', 'not', 'you', 'hear', 'that', 'noise', '?', 'That', 'never', 'happened', 'before.', '’', 'But', 'the', 'eldest', 'said', ',', '‘', 'It', 'is', 'only', 'our', 'princes', ',', 'who', 'are', 'shouting', 'for', 'joy', 'at', 'our', 'approach', '.', '’', 'Then', 'they', 'came', 'to', 'another', 'grove', 'of', 'trees', ',', 'where', 'all', 'the', 'leaves', 'were', 'of', 'gold', ';', 'and', 'afterwards', 'to', 'a', 'third', ',', 'where', 'the', 'leaves', 'were', 'all', 'glittering', 'diamonds', '.', 'And', 'the', 'soldier', 'broke', 'a', 'branch', 'from', 'each', ';', 'and', 'every', 'time', 'there', 'was', 'a', 'loud', 'noise', ',', 'which', 'made', 'the', 'youngest', 'sister', 'tremble', 'with', 'fear', ';', 'but', 'the', 'eldest', 'still', 'said', ',', 'it', 'was', 'only', 'the', 'princes', ',', 'who', 'were', 'crying', 'for', 'joy', '.', 'So', 'they', 'went', 'on', 'till', 'they', 'came', 'to', 'a', 'great', 'lake', ';', 'and', 'at', 'the', 'side', 'of', 'the', 'lake', 'there', 'lay', 'twelve', 'little', 'boats', 'with', 'twelve', 'handsome', 'princes', 'in', 'them', ',', 'who', 'seemed', 'to', 'be', 'waiting', 'there', 'for', 'the', 'princesses', '.', 'One', 'of', 'the', 'princesses', 'went', 'into', 'each', 'boat', ',', 'and', 'the', 'soldier', 'stepped', 'into', 'the', 'same', 'boat', 'with', 'the', 'youngest', '.', 'As', 'they', 'were', 'rowing', 'over', 'the', 'lake', ',', 'the', 'prince', 'who', 'was', 'in', 'the', 'boat', 'with', 'the', 'youngest', 'princess', 'and', 'the', 'soldier', 'said', ',', '‘', 'I', 'do', 'not', 'know', 'why', 'it', 'is', ',', 'but', 'though', 'I', 'am', 'rowing', 'with', 'all', 'my', 'might', 'we', 'do', 'not', 'get', 'on', 'so', 'fast', 'as', 'usual', ',', 'and', 'I', 'am', 'quite', 'tired', ':', 'the', 'boat', 'seems', 'very', 'heavy', 'today.', '’', '‘', 'It', 'is', 'only', 'the', 'heat', 'of', 'the', 'weather', ',', '’', 'said', 'the', 'princess', ':', '‘', 'I', 'feel', 'it', 'very', 'warm', 'too', '.', '’', 'On', 'the', 'other', 'side', 'of', 'the', 'lake', 'stood', 'a', 'fine', 'illuminated', 'castle', ',', 'from', 'which', 'came', 'the', 'merry', 'music', 'of', 'horns', 'and', 'trumpets', '.', 'There', 'they', 'all', 'landed', ',', 'and', 'went', 'into', 'the', 'castle', ',', 'and', 'each', 'prince', 'danced', 'with', 'his', 'princess', ';', 'and', 'the', 'soldier', ',', 'who', 'was', 'all', 'the', 'time', 'invisible', ',', 'danced', 'with', 'them', 'too', ';', 'and', 'when', 'any', 'of', 'the', 'princesses', 'had', 'a', 'cup', 'of', 'wine', 'set', 'by', 'her', ',', 'he', 'drank', 'it', 'all', 'up', ',', 'so', 'that', 'when', 'she', 'put', 'the', 'cup', 'to', 'her', 'mouth', 'it', 'was', 'empty', '.', 'At', 'this', ',', 'too', ',', 'the', 'youngest', 'sister', 'was', 'terribly', 'frightened', ',', 'but', 'the', 'eldest', 'always', 'silenced', 'her', '.', 'They', 'danced', 'on', 'till', 'three', 'o', '’', 'clock', 'in', 'the', 'morning', ',', 'and', 'then', 'all', 'their', 'shoes', 'were', 'worn', 'out', ',', 'so', 'that', 'they', 'were', 'obliged', 'to', 'leave', 'off', '.', 'The', 'princes', 'rowed', 'them', 'back', 'again', 'over', 'the', 'lake', '(', 'but', 'this', 'time', 'the', 'soldier', 'placed', 'himself', 'in', 'the', 'boat', 'with', 'the', 'eldest', 'princess', ')', ';', 'and', 'on', 'the', 'opposite', 'shore', 'they', 'took', 'leave', 'of', 'each', 'other', ',', 'the', 'princesses', 'promising', 'to', 'come', 'again', 'the', 'next', 'night', '.', 'When', 'they', 'came', 'to', 'the', 'stairs', ',', 'the', 'soldier', 'ran', 'on', 'before', 'the', 'princesses', ',', 'and', 'laid', 'himself', 'down', ';', 'and', 'as', 'the', 'twelve', 'sisters', 'slowly', 'came', 'up', 'very', 'much', 'tired', ',', 'they', 'heard', 'him', 'snoring', 'in', 'his', 'bed', ';', 'so', 'they', 'said', ',', '‘', 'Now', 'all', 'is', 'quite', 'safe', '’', ';', 'then', 'they', 'undressed', 'themselves', ',', 'put', 'away', 'their', 'fine', 'clothes', ',', 'pulled', 'off', 'their', 'shoes', ',', 'and', 'went', 'to', 'bed', '.', 'In', 'the', 'morning', 'the', 'soldier', 'said', 'nothing', 'about', 'what', 'had', 'happened', ',', 'but', 'determined', 'to', 'see', 'more', 'of', 'this', 'strange', 'adventure', ',', 'and', 'went', 'again', 'the', 'second', 'and', 'third', 'night', ';', 'and', 'every', 'thing', 'happened', 'just', 'as', 'before', ';', 'the', 'princesses', 'danced', 'each', 'time', 'till', 'their', 'shoes', 'were', 'worn', 'to', 'pieces', ',', 'and', 'then', 'returned', 'home', '.', 'However', ',', 'on', 'the', 'third', 'night', 'the', 'soldier', 'carried', 'away', 'one', 'of', 'the', 'golden', 'cups', 'as', 'a', 'token', 'of', 'where', 'he', 'had', 'been', '.', 'As', 'soon', 'as', 'the', 'time', 'came', 'when', 'he', 'was', 'to', 'declare', 'the', 'secret', ',', 'he', 'was', 'taken', 'before', 'the', 'king', 'with', 'the', 'three', 'branches', 'and', 'the', 'golden', 'cup', ';', 'and', 'the', 'twelve', 'princesses', 'stood', 'listening', 'behind', 'the', 'door', 'to', 'hear', 'what', 'he', 'would', 'say', '.', 'And', 'when', 'the', 'king', 'asked', 'him', '.', '‘', 'Where', 'do', 'my', 'twelve', 'daughters', 'dance', 'at', 'night', '?', '’', 'he', 'answered', ',', '‘', 'With', 'twelve', 'princes', 'in', 'a', 'castle', 'under', 'ground.', '’', 'And', 'then', 'he', 'told', 'the', 'king', 'all', 'that', 'had', 'happened', ',', 'and', 'showed', 'him', 'the', 'three', 'branches', 'and', 'the', 'golden', 'cup', 'which', 'he', 'had', 'brought', 'with', 'him', '.', 'Then', 'the', 'king', 'called', 'for', 'the', 'princesses', ',', 'and', 'asked', 'them', 'whether', 'what', 'the', 'soldier', 'said', 'was', 'true', ':', 'and', 'when', 'they', 'saw', 'that', 'they', 'were', 'discovered', ',', 'and', 'that', 'it', 'was', 'of', 'no', 'use', 'to', 'deny', 'what', 'had', 'happened', ',', 'they', 'confessed', 'it', 'all', '.', 'And', 'the', 'king', 'asked', 'the', 'soldier', 'which', 'of', 'them', 'he', 'would', 'choose', 'for', 'his', 'wife', ';', 'and', 'he', 'answered', ',', '‘', 'I', 'am', 'not', 'very', 'young', ',', 'so', 'I', 'will', 'have', 'the', 'eldest.', '’', '--', 'And', 'they', 'were', 'married', 'that', 'very', 'day', ',', 'and', 'the', 'soldier', 'was', 'chosen', 'to', 'be', 'the', 'king', '’', 's', 'heir', '.']\n"
     ]
    }
   ],
   "source": [
    "print(dprince)"
   ]
  },
  {
   "cell_type": "code",
   "execution_count": 21,
   "metadata": {},
   "outputs": [
    {
     "name": "stdout",
     "output_type": "stream",
     "text": [
      "['THE', 'TWELVE', 'DANCING', 'PRINCESSES', 'There', 'was', 'a', 'king', 'who', 'had', 'twelve', 'beautiful', 'daughters', 'They', 'slept', 'in', 'twelve', 'beds', 'all', 'in', 'one', 'room', 'and', 'when', 'they', 'went', 'to', 'bed', 'the', 'doors', 'were', 'shut', 'and', 'locked', 'up', 'but', 'every', 'morning', 'their', 'shoes', 'were', 'found', 'to', 'be', 'quite', 'worn', 'through', 'as', 'if', 'they', 'had', 'been', 'danced', 'in', 'all', 'night', 'and', 'yet', 'nobody', 'could', 'find', 'out', 'how', 'it', 'happened', 'or', 'where', 'they', 'had', 'been', 'Then', 'the', 'king', 'made', 'it', 'known', 'to', 'all', 'the', 'land', 'that', 'if', 'any', 'person', 'could', 'discover', 'the', 'secret', 'and', 'find', 'out', 'where', 'it', 'was', 'that', 'the', 'princesses', 'danced', 'in', 'the', 'night', 'he', 'should', 'have', 'the', 'one', 'he', 'liked', 'best', 'for', 'his', 'wife', 'and', 'should', 'be', 'king', 'after', 'his', 'death', 'but', 'whoever', 'tried', 'and', 'did', 'not', 'succeed', 'after', 'three', 'days', 'and', 'nights', 'should', 'be', 'put', 'to', 'death', 'A', 'king', '’', 's', 'son', 'soon', 'came', 'He', 'was', 'well', 'entertained', 'and', 'in', 'the', 'evening', 'was', 'taken', 'to', 'the', 'chamber', 'next', 'to', 'the', 'one', 'where', 'the', 'princesses', 'lay', 'in', 'their', 'twelve', 'beds', 'There', 'he', 'was', 'to', 'sit', 'and', 'watch', 'where', 'they', 'went', 'to', 'dance', 'and', 'in', 'order', 'that', 'nothing', 'might', 'pass', 'without', 'his', 'hearing', 'it', 'the', 'door', 'of', 'his', 'chamber', 'was', 'left', 'open', 'But', 'the', 'king', '’', 's', 'son', 'soon', 'fell', 'asleep', 'and', 'when', 'he', 'awoke', 'in', 'the', 'morning', 'he', 'found', 'that', 'the', 'princesses', 'had', 'all', 'been', 'dancing', 'for', 'the', 'soles', 'of', 'their', 'shoes', 'were', 'full', 'of', 'holes', 'The', 'same', 'thing', 'happened', 'the', 'second', 'and', 'third', 'night', 'so', 'the', 'king', 'ordered', 'his', 'head', 'to', 'be', 'cut', 'off', 'After', 'him', 'came', 'several', 'others', 'but', 'they', 'had', 'all', 'the', 'same', 'luck', 'and', 'all', 'lost', 'their', 'lives', 'in', 'the', 'same', 'manner', 'Now', 'it', 'chanced', 'that', 'an', 'old', 'soldier', 'who', 'had', 'been', 'wounded', 'in', 'battle', 'and', 'could', 'fight', 'no', 'longer', 'passed', 'through', 'the', 'country', 'where', 'this', 'king', 'reigned', 'and', 'as', 'he', 'was', 'travelling', 'through', 'a', 'wood', 'he', 'met', 'an', 'old', 'woman', 'who', 'asked', 'him', 'where', 'he', 'was', 'going', '‘', 'I', 'hardly', 'know', 'where', 'I', 'am', 'going', 'or', 'what', 'I', 'had', 'better', 'do', '’', 'said', 'the', 'soldier', '‘', 'but', 'I', 'think', 'I', 'should', 'like', 'very', 'well', 'to', 'find', 'out', 'where', 'it', 'is', 'that', 'the', 'princesses', 'dance', 'and', 'then', 'in', 'time', 'I', 'might', 'be', 'a', 'king.', '’', '‘', 'Well', '’', 'said', 'the', 'old', 'dame', '‘', 'that', 'is', 'no', 'very', 'hard', 'task', 'only', 'take', 'care', 'not', 'to', 'drink', 'any', 'of', 'the', 'wine', 'which', 'one', 'of', 'the', 'princesses', 'will', 'bring', 'to', 'you', 'in', 'the', 'evening', 'and', 'as', 'soon', 'as', 'she', 'leaves', 'you', 'pretend', 'to', 'be', 'fast', 'asleep', '’', 'Then', 'she', 'gave', 'him', 'a', 'cloak', 'and', 'said', '‘', 'As', 'soon', 'as', 'you', 'put', 'that', 'on', 'you', 'will', 'become', 'invisible', 'and', 'you', 'will', 'then', 'be', 'able', 'to', 'follow', 'the', 'princesses', 'wherever', 'they', 'go.', '’', 'When', 'the', 'soldier', 'heard', 'all', 'this', 'good', 'counsel', 'he', 'determined', 'to', 'try', 'his', 'luck', 'so', 'he', 'went', 'to', 'the', 'king', 'and', 'said', 'he', 'was', 'willing', 'to', 'undertake', 'the', 'task', 'He', 'was', 'as', 'well', 'received', 'as', 'the', 'others', 'had', 'been', 'and', 'the', 'king', 'ordered', 'fine', 'royal', 'robes', 'to', 'be', 'given', 'him', 'and', 'when', 'the', 'evening', 'came', 'he', 'was', 'led', 'to', 'the', 'outer', 'chamber', 'Just', 'as', 'he', 'was', 'going', 'to', 'lie', 'down', 'the', 'eldest', 'of', 'the', 'princesses', 'brought', 'him', 'a', 'cup', 'of', 'wine', 'but', 'the', 'soldier', 'threw', 'it', 'all', 'away', 'secretly', 'taking', 'care', 'not', 'to', 'drink', 'a', 'drop', 'Then', 'he', 'laid', 'himself', 'down', 'on', 'his', 'bed', 'and', 'in', 'a', 'little', 'while', 'began', 'to', 'snore', 'very', 'loud', 'as', 'if', 'he', 'was', 'fast', 'asleep', 'When', 'the', 'twelve', 'princesses', 'heard', 'this', 'they', 'laughed', 'heartily', 'and', 'the', 'eldest', 'said', '‘', 'This', 'fellow', 'too', 'might', 'have', 'done', 'a', 'wiser', 'thing', 'than', 'lose', 'his', 'life', 'in', 'this', 'way', '’', 'Then', 'they', 'rose', 'up', 'and', 'opened', 'their', 'drawers', 'and', 'boxes', 'and', 'took', 'out', 'all', 'their', 'fine', 'clothes', 'and', 'dressed', 'themselves', 'at', 'the', 'glass', 'and', 'skipped', 'about', 'as', 'if', 'they', 'were', 'eager', 'to', 'begin', 'dancing', 'But', 'the', 'youngest', 'said', '‘', 'I', 'don', '’', 't', 'know', 'how', 'it', 'is', 'while', 'you', 'are', 'so', 'happy', 'I', 'feel', 'very', 'uneasy', 'I', 'am', 'sure', 'some', 'mischance', 'will', 'befall', 'us.', '’', '‘', 'You', 'simpleton', '’', 'said', 'the', 'eldest', '‘', 'you', 'are', 'always', 'afraid', 'have', 'you', 'forgotten', 'how', 'many', 'kings', '’', 'sons', 'have', 'already', 'watched', 'in', 'vain', 'And', 'as', 'for', 'this', 'soldier', 'even', 'if', 'I', 'had', 'not', 'given', 'him', 'his', 'sleeping', 'draught', 'he', 'would', 'have', 'slept', 'soundly', 'enough', '’', 'When', 'they', 'were', 'all', 'ready', 'they', 'went', 'and', 'looked', 'at', 'the', 'soldier', 'but', 'he', 'snored', 'on', 'and', 'did', 'not', 'stir', 'hand', 'or', 'foot', 'so', 'they', 'thought', 'they', 'were', 'quite', 'safe', 'and', 'the', 'eldest', 'went', 'up', 'to', 'her', 'own', 'bed', 'and', 'clapped', 'her', 'hands', 'and', 'the', 'bed', 'sank', 'into', 'the', 'floor', 'and', 'a', 'trap-door', 'flew', 'open', 'The', 'soldier', 'saw', 'them', 'going', 'down', 'through', 'the', 'trap-door', 'one', 'after', 'another', 'the', 'eldest', 'leading', 'the', 'way', 'and', 'thinking', 'he', 'had', 'no', 'time', 'to', 'lose', 'he', 'jumped', 'up', 'put', 'on', 'the', 'cloak', 'which', 'the', 'old', 'woman', 'had', 'given', 'him', 'and', 'followed', 'them', 'but', 'in', 'the', 'middle', 'of', 'the', 'stairs', 'he', 'trod', 'on', 'the', 'gown', 'of', 'the', 'youngest', 'princess', 'and', 'she', 'cried', 'out', 'to', 'her', 'sisters', '‘', 'All', 'is', 'not', 'right', 'someone', 'took', 'hold', 'of', 'my', 'gown.', '’', '‘', 'You', 'silly', 'creature', '’', 'said', 'the', 'eldest', '‘', 'it', 'is', 'nothing', 'but', 'a', 'nail', 'in', 'the', 'wall.', '’', 'Then', 'down', 'they', 'all', 'went', 'and', 'at', 'the', 'bottom', 'they', 'found', 'themselves', 'in', 'a', 'most', 'delightful', 'grove', 'of', 'trees', 'and', 'the', 'leaves', 'were', 'all', 'of', 'silver', 'and', 'glittered', 'and', 'sparkled', 'beautifully', 'The', 'soldier', 'wished', 'to', 'take', 'away', 'some', 'token', 'of', 'the', 'place', 'so', 'he', 'broke', 'off', 'a', 'little', 'branch', 'and', 'there', 'came', 'a', 'loud', 'noise', 'from', 'the', 'tree', 'Then', 'the', 'youngest', 'daughter', 'said', 'again', '‘', 'I', 'am', 'sure', 'all', 'is', 'not', 'right', '--', 'did', 'not', 'you', 'hear', 'that', 'noise', 'That', 'never', 'happened', 'before.', '’', 'But', 'the', 'eldest', 'said', '‘', 'It', 'is', 'only', 'our', 'princes', 'who', 'are', 'shouting', 'for', 'joy', 'at', 'our', 'approach', '’', 'Then', 'they', 'came', 'to', 'another', 'grove', 'of', 'trees', 'where', 'all', 'the', 'leaves', 'were', 'of', 'gold', 'and', 'afterwards', 'to', 'a', 'third', 'where', 'the', 'leaves', 'were', 'all', 'glittering', 'diamonds', 'And', 'the', 'soldier', 'broke', 'a', 'branch', 'from', 'each', 'and', 'every', 'time', 'there', 'was', 'a', 'loud', 'noise', 'which', 'made', 'the', 'youngest', 'sister', 'tremble', 'with', 'fear', 'but', 'the', 'eldest', 'still', 'said', 'it', 'was', 'only', 'the', 'princes', 'who', 'were', 'crying', 'for', 'joy', 'So', 'they', 'went', 'on', 'till', 'they', 'came', 'to', 'a', 'great', 'lake', 'and', 'at', 'the', 'side', 'of', 'the', 'lake', 'there', 'lay', 'twelve', 'little', 'boats', 'with', 'twelve', 'handsome', 'princes', 'in', 'them', 'who', 'seemed', 'to', 'be', 'waiting', 'there', 'for', 'the', 'princesses', 'One', 'of', 'the', 'princesses', 'went', 'into', 'each', 'boat', 'and', 'the', 'soldier', 'stepped', 'into', 'the', 'same', 'boat', 'with', 'the', 'youngest', 'As', 'they', 'were', 'rowing', 'over', 'the', 'lake', 'the', 'prince', 'who', 'was', 'in', 'the', 'boat', 'with', 'the', 'youngest', 'princess', 'and', 'the', 'soldier', 'said', '‘', 'I', 'do', 'not', 'know', 'why', 'it', 'is', 'but', 'though', 'I', 'am', 'rowing', 'with', 'all', 'my', 'might', 'we', 'do', 'not', 'get', 'on', 'so', 'fast', 'as', 'usual', 'and', 'I', 'am', 'quite', 'tired', 'the', 'boat', 'seems', 'very', 'heavy', 'today.', '’', '‘', 'It', 'is', 'only', 'the', 'heat', 'of', 'the', 'weather', '’', 'said', 'the', 'princess', '‘', 'I', 'feel', 'it', 'very', 'warm', 'too', '’', 'On', 'the', 'other', 'side', 'of', 'the', 'lake', 'stood', 'a', 'fine', 'illuminated', 'castle', 'from', 'which', 'came', 'the', 'merry', 'music', 'of', 'horns', 'and', 'trumpets', 'There', 'they', 'all', 'landed', 'and', 'went', 'into', 'the', 'castle', 'and', 'each', 'prince', 'danced', 'with', 'his', 'princess', 'and', 'the', 'soldier', 'who', 'was', 'all', 'the', 'time', 'invisible', 'danced', 'with', 'them', 'too', 'and', 'when', 'any', 'of', 'the', 'princesses', 'had', 'a', 'cup', 'of', 'wine', 'set', 'by', 'her', 'he', 'drank', 'it', 'all', 'up', 'so', 'that', 'when', 'she', 'put', 'the', 'cup', 'to', 'her', 'mouth', 'it', 'was', 'empty', 'At', 'this', 'too', 'the', 'youngest', 'sister', 'was', 'terribly', 'frightened', 'but', 'the', 'eldest', 'always', 'silenced', 'her', 'They', 'danced', 'on', 'till', 'three', 'o', '’', 'clock', 'in', 'the', 'morning', 'and', 'then', 'all', 'their', 'shoes', 'were', 'worn', 'out', 'so', 'that', 'they', 'were', 'obliged', 'to', 'leave', 'off', 'The', 'princes', 'rowed', 'them', 'back', 'again', 'over', 'the', 'lake', 'but', 'this', 'time', 'the', 'soldier', 'placed', 'himself', 'in', 'the', 'boat', 'with', 'the', 'eldest', 'princess', 'and', 'on', 'the', 'opposite', 'shore', 'they', 'took', 'leave', 'of', 'each', 'other', 'the', 'princesses', 'promising', 'to', 'come', 'again', 'the', 'next', 'night', 'When', 'they', 'came', 'to', 'the', 'stairs', 'the', 'soldier', 'ran', 'on', 'before', 'the', 'princesses', 'and', 'laid', 'himself', 'down', 'and', 'as', 'the', 'twelve', 'sisters', 'slowly', 'came', 'up', 'very', 'much', 'tired', 'they', 'heard', 'him', 'snoring', 'in', 'his', 'bed', 'so', 'they', 'said', '‘', 'Now', 'all', 'is', 'quite', 'safe', '’', 'then', 'they', 'undressed', 'themselves', 'put', 'away', 'their', 'fine', 'clothes', 'pulled', 'off', 'their', 'shoes', 'and', 'went', 'to', 'bed', 'In', 'the', 'morning', 'the', 'soldier', 'said', 'nothing', 'about', 'what', 'had', 'happened', 'but', 'determined', 'to', 'see', 'more', 'of', 'this', 'strange', 'adventure', 'and', 'went', 'again', 'the', 'second', 'and', 'third', 'night', 'and', 'every', 'thing', 'happened', 'just', 'as', 'before', 'the', 'princesses', 'danced', 'each', 'time', 'till', 'their', 'shoes', 'were', 'worn', 'to', 'pieces', 'and', 'then', 'returned', 'home', 'However', 'on', 'the', 'third', 'night', 'the', 'soldier', 'carried', 'away', 'one', 'of', 'the', 'golden', 'cups', 'as', 'a', 'token', 'of', 'where', 'he', 'had', 'been', 'As', 'soon', 'as', 'the', 'time', 'came', 'when', 'he', 'was', 'to', 'declare', 'the', 'secret', 'he', 'was', 'taken', 'before', 'the', 'king', 'with', 'the', 'three', 'branches', 'and', 'the', 'golden', 'cup', 'and', 'the', 'twelve', 'princesses', 'stood', 'listening', 'behind', 'the', 'door', 'to', 'hear', 'what', 'he', 'would', 'say', 'And', 'when', 'the', 'king', 'asked', 'him', '‘', 'Where', 'do', 'my', 'twelve', 'daughters', 'dance', 'at', 'night', '’', 'he', 'answered', '‘', 'With', 'twelve', 'princes', 'in', 'a', 'castle', 'under', 'ground.', '’', 'And', 'then', 'he', 'told', 'the', 'king', 'all', 'that', 'had', 'happened', 'and', 'showed', 'him', 'the', 'three', 'branches', 'and', 'the', 'golden', 'cup', 'which', 'he', 'had', 'brought', 'with', 'him', 'Then', 'the', 'king', 'called', 'for', 'the', 'princesses', 'and', 'asked', 'them', 'whether', 'what', 'the', 'soldier', 'said', 'was', 'true', 'and', 'when', 'they', 'saw', 'that', 'they', 'were', 'discovered', 'and', 'that', 'it', 'was', 'of', 'no', 'use', 'to', 'deny', 'what', 'had', 'happened', 'they', 'confessed', 'it', 'all', 'And', 'the', 'king', 'asked', 'the', 'soldier', 'which', 'of', 'them', 'he', 'would', 'choose', 'for', 'his', 'wife', 'and', 'he', 'answered', '‘', 'I', 'am', 'not', 'very', 'young', 'so', 'I', 'will', 'have', 'the', 'eldest.', '’', '--', 'And', 'they', 'were', 'married', 'that', 'very', 'day', 'and', 'the', 'soldier', 'was', 'chosen', 'to', 'be', 'the', 'king', '’', 's', 'heir']\n"
     ]
    }
   ],
   "source": [
    "# remove the punctuation and filler words (stopwords) from the list of tokens\n",
    "punctuations= '!\"#$%&\\'()*+,-./:;<=>?@[\\\\]^_`{|}~'\n",
    "no_punct = \"\"\n",
    "for char in dprince:\n",
    "    if char in punctuations:\n",
    "        #no_punct = no_punct + char\n",
    "        dprince.remove(char)\n",
    "\n",
    "# display the unpunctuated string\n",
    "print(dprince)"
   ]
  },
  {
   "cell_type": "code",
   "execution_count": 22,
   "metadata": {},
   "outputs": [
    {
     "data": {
      "text/plain": [
       "[('the', 134),\n",
       " ('and', 72),\n",
       " ('to', 42),\n",
       " ('he', 31),\n",
       " ('they', 30),\n",
       " ('of', 28),\n",
       " ('’', 27),\n",
       " ('was', 24),\n",
       " ('in', 24),\n",
       " ('all', 23)]"
      ]
     },
     "execution_count": 22,
     "metadata": {},
     "output_type": "execute_result"
    }
   ],
   "source": [
    "#get the top 10 words from the text.\n",
    "fd_nw = FreqDist(dprince)\n",
    "fd_nw.most_common(10)"
   ]
  },
  {
   "cell_type": "code",
   "execution_count": null,
   "metadata": {},
   "outputs": [],
   "source": []
  }
 ],
 "metadata": {
  "kernelspec": {
   "display_name": "Python 3",
   "language": "python",
   "name": "python3"
  },
  "language_info": {
   "codemirror_mode": {
    "name": "ipython",
    "version": 3
   },
   "file_extension": ".py",
   "mimetype": "text/x-python",
   "name": "python",
   "nbconvert_exporter": "python",
   "pygments_lexer": "ipython3",
   "version": "3.7.3"
  }
 },
 "nbformat": 4,
 "nbformat_minor": 2
}
